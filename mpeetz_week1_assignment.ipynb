{
 "cells": [
  {
   "cell_type": "markdown",
   "metadata": {},
   "source": [
    "# Matthew Peetz\n",
    "# Regis University\n",
    "# MSDS 621 Data Wrangling\n",
    "# Week 1 Lab: Converting File Between Different Formats"
   ]
  },
  {
   "cell_type": "markdown",
   "metadata": {},
   "source": [
    "# Assignment Requirements"
   ]
  },
  {
   "cell_type": "markdown",
   "metadata": {},
   "source": [
    "## Assignment Part 1"
   ]
  },
  {
   "cell_type": "markdown",
   "metadata": {},
   "source": [
    "In this week's Lecture notebook, we examined CSV and JSON file formats. We wrote code to manually convert a specific CSV file to a specific JSON in the process.\n",
    "```\n",
    "import json\n",
    "import csv\n",
    "\n",
    "# Read CSV file. This wouldn't work well for very large files\n",
    "with open('data_wk1/scientists.csv') as f:\n",
    "    reader = csv.DictReader(f)\n",
    "    rows = list(reader)\n",
    "    \n",
    "# Write JSON file to disk\n",
    "with open('data_wk1/scientists.json', 'w') as f:\n",
    "    json.dump(rows, f)\n",
    "\n",
    "```\n",
    "\n",
    "The comment above the CSV section makes an assumption and says it wouldn't work for large files. <br>\n",
    "(The fourth line above reads \"# Read CSV file. This wouldn't work well for very large files\")\n",
    "\n",
    "Use the following articles to understand the terms **eager evaluation** and **lazy evaluation**:\n",
    "* https://en.wikipedia.org/wiki/Eager_evaluation\n",
    "* https://en.wikipedia.org/wiki/Lazy_evaluation\n",
    "\n",
    "Now answer the following questions:\n",
    "1. In light of the two definitions above, what is the assumption made by that comment?\n",
    "2. Explain why that assumption is right or wrong.\n",
    "3. Is it safe to use the code above on large files?"
   ]
  },
  {
   "cell_type": "markdown",
   "metadata": {},
   "source": [
    "Eager Evalution - In Eager Evaluation a functions entire argumnent is evaluated before it is applied.\n",
    "\n",
    "Lazy Evalulation - In Lazy Evalulation a functions argument is not evaluated until it needs to be applied. This leads to faster computing and does not require parts of the function that are not needed to be called.\n",
    "\n",
    "1) The assumption made by the comment is that for a large file and Eager Evalution the agrument would need to be called for the entire file, which is very large, and would require computing time that scales with the size of the file. In addition each row is being read into a list and then processed, which takes more tie.\n",
    "\n",
    "2) According to the article, \"Working With Large CSV Files in Python\", it can take a lot of memory to process large csv files. That is becuase the file needs to be held in the machines memory, which may not be large enough.\n",
    "\n",
    "3) It would not be ideal to run the above code on very large files. There are multiple alternatives that can be used and were listed in the article, including processing the file in chunks or using an alternative library like dask.\n",
    "\n",
    "\n",
    "https://www.geeksforgeeks.org/working-with-large-csv-files-in-python/"
   ]
  },
  {
   "cell_type": "markdown",
   "metadata": {},
   "source": [
    "## Assignment Part 2"
   ]
  },
  {
   "cell_type": "markdown",
   "metadata": {
    "jp-MarkdownHeadingCollapsed": true,
    "tags": []
   },
   "source": [
    "Programmers hate code written for a specific case, \"I don't care if it can solve one special case, I want it to solve *all* cases.\" This generalization process is called **\"abstraction\"**.\n",
    "\n",
    "1. Generalize the CSV->JSON code above into a function that can work for any CSV file and any JSON file (within reason)."
   ]
  },
  {
   "cell_type": "code",
   "execution_count": 1,
   "metadata": {},
   "outputs": [],
   "source": [
    "# Code to open the csv file and convert it to a json dile\n",
    "import csv\n",
    "import json\n",
    "\n",
    "def con_csv_json(csv_file, json_file):\n",
    "    with open(csv_file, 'r',  encoding=\"utf8\") as f:\n",
    "        reader = csv.DictReader(f)\n",
    "        rows = list(reader)\n",
    "        \n",
    "    with open(json_file, 'w') as f:\n",
    "        json.dump(rows, f)\n",
    "    \n",
    "con_csv_json('data/scientists.csv', 'data/newsci.json')"
   ]
  },
  {
   "cell_type": "markdown",
   "metadata": {},
   "source": [
    "Showing that the JSON file was indeed created with the new name"
   ]
  },
  {
   "cell_type": "code",
   "execution_count": 2,
   "metadata": {},
   "outputs": [
    {
     "name": "stdout",
     "output_type": "stream",
     "text": [
      "{'Name': 'Rosaline Franklin', 'Born': '1920-07-25', 'Died': '1958-04-16', 'Age': '37', 'Occupation': 'Chemist'}\n",
      "{'Name': 'William Gosset', 'Born': '1876-06-13', 'Died': '1937-10-16', 'Age': '61', 'Occupation': 'Statistician'}\n",
      "{'Name': 'Florence Nightingale', 'Born': '1820-05-12', 'Died': '1910-08-13', 'Age': '90', 'Occupation': 'Nurse'}\n",
      "{'Name': 'Marie Curie', 'Born': '1867-11-07', 'Died': '1934-07-04', 'Age': '66', 'Occupation': 'Chemist'}\n",
      "{'Name': 'Rachel Carson', 'Born': '1907-05-27', 'Died': '1964-04-14', 'Age': '56', 'Occupation': 'Biologist'}\n",
      "{'Name': 'John Snow', 'Born': '1813-03-15', 'Died': '1858-06-16', 'Age': '45', 'Occupation': 'Physician'}\n",
      "{'Name': 'Alan Turing', 'Born': '1912-06-23', 'Died': '1954-06-07', 'Age': '41', 'Occupation': 'Computer Scientist'}\n",
      "{'Name': 'Johann Gauss', 'Born': '1777-04-30', 'Died': '1855-02-23', 'Age': '77', 'Occupation': 'Mathematician'}\n"
     ]
    }
   ],
   "source": [
    "# Code taken from week 1 lesson\n",
    "def printplus(obj):\n",
    "    \"\"\"\n",
    "    Pretty-prints the object passed in.\n",
    "\n",
    "    \"\"\"\n",
    "    # Dict\n",
    "    if isinstance(obj, dict):\n",
    "        for k, v in sorted(obj.items()):\n",
    "            print (u'{0}: {1}'.format(k, v))\n",
    "\n",
    "    # List or tuple            \n",
    "    elif isinstance(obj, list) or isinstance(obj, tuple):\n",
    "        for x in obj:\n",
    "            print (x)\n",
    "\n",
    "    # Other\n",
    "    else:\n",
    "        print (obj)\n",
    "\n",
    "# showing that the json file was made\n",
    "input_filename = 'data/newsci.json'\n",
    "\n",
    "with open(input_filename) as f:\n",
    "    data_2 = json.load(f)\n",
    "printplus(data_2)"
   ]
  },
  {
   "cell_type": "markdown",
   "metadata": {},
   "source": [
    "Being able to convert in only one direction is only helpful half the time. Specious math aside, \n",
    "\n",
    "2. Write a generalized JSON->CSV converter function."
   ]
  },
  {
   "cell_type": "code",
   "execution_count": 3,
   "metadata": {},
   "outputs": [],
   "source": [
    "# JSON -> CSV Converter\n",
    "\n",
    "import pandas as pd # loading in the pandas library\n",
    "\n",
    "def con_json_csv(json_file, csv_file):\n",
    "    df = pd.read_json(json_file,  encoding=\"utf8\")\n",
    "    df.to_csv(csv_file)\n",
    "    \n",
    "con_json_csv('data/scientists.json', 'data/newsci.csv')\n"
   ]
  },
  {
   "cell_type": "markdown",
   "metadata": {},
   "source": [
    "Showing that the file was converted from JSON to CSV"
   ]
  },
  {
   "cell_type": "code",
   "execution_count": 4,
   "metadata": {},
   "outputs": [],
   "source": [
    "# Loading pprint\n",
    "from pprint import pprint\n"
   ]
  },
  {
   "cell_type": "code",
   "execution_count": 5,
   "metadata": {},
   "outputs": [
    {
     "name": "stdout",
     "output_type": "stream",
     "text": [
      "{'': '0',\n",
      " 'Age': '37',\n",
      " 'Born': '1920-07-25',\n",
      " 'Died': '1958-04-16',\n",
      " 'Name': 'Rosaline Franklin',\n",
      " 'Occupation': 'Chemist'}\n",
      "{'': '1',\n",
      " 'Age': '61',\n",
      " 'Born': '1876-06-13',\n",
      " 'Died': '1937-10-16',\n",
      " 'Name': 'William Gosset',\n",
      " 'Occupation': 'Statistician'}\n",
      "{'': '2',\n",
      " 'Age': '90',\n",
      " 'Born': '1820-05-12',\n",
      " 'Died': '1910-08-13',\n",
      " 'Name': 'Florence Nightingale',\n",
      " 'Occupation': 'Nurse'}\n",
      "{'': '3',\n",
      " 'Age': '66',\n",
      " 'Born': '1867-11-07',\n",
      " 'Died': '1934-07-04',\n",
      " 'Name': 'Marie Curie',\n",
      " 'Occupation': 'Chemist'}\n",
      "{'': '4',\n",
      " 'Age': '56',\n",
      " 'Born': '1907-05-27',\n",
      " 'Died': '1964-04-14',\n",
      " 'Name': 'Rachel Carson',\n",
      " 'Occupation': 'Biologist'}\n",
      "{'': '5',\n",
      " 'Age': '45',\n",
      " 'Born': '1813-03-15',\n",
      " 'Died': '1858-06-16',\n",
      " 'Name': 'John Snow',\n",
      " 'Occupation': 'Physician'}\n",
      "{'': '6',\n",
      " 'Age': '41',\n",
      " 'Born': '1912-06-23',\n",
      " 'Died': '1954-06-07',\n",
      " 'Name': 'Alan Turing',\n",
      " 'Occupation': 'Computer Scientist'}\n",
      "{'': '7',\n",
      " 'Age': '77',\n",
      " 'Born': '1777-04-30',\n",
      " 'Died': '1855-02-23',\n",
      " 'Name': 'Johann Gauss',\n",
      " 'Occupation': 'Mathematician'}\n"
     ]
    }
   ],
   "source": [
    "# showing that the json file was made\n",
    "with open('data/newsci.csv', 'r') as infile:\n",
    "    reader = csv.DictReader(infile)  \n",
    "    for line in reader:\n",
    "        pprint(dict(line))"
   ]
  },
  {
   "cell_type": "markdown",
   "metadata": {},
   "source": [
    "3. Use the two function you just created, demonstrate a \"round-trip\" (CSV->JSON->CSV or JSON->CSV->JSON)for the following dataset.\n",
    ">**Dataset:** Consumer Complaint Database data found at https://catalog.data.gov/dataset/consumer-complaint-database#topic=consumer_navigation"
   ]
  },
  {
   "cell_type": "markdown",
   "metadata": {},
   "source": [
    "Round trip conversion JSON -> CSV -> JSON"
   ]
  },
  {
   "cell_type": "code",
   "execution_count": 6,
   "metadata": {},
   "outputs": [],
   "source": [
    "# converting from json to CSV\n",
    "con_json_csv('data/complaints.json', 'data/newcomplaints.csv')"
   ]
  },
  {
   "cell_type": "code",
   "execution_count": 7,
   "metadata": {},
   "outputs": [],
   "source": [
    "# converting from csv to json\n",
    "con_csv_json('data/newcomplaints.csv', 'data/finalcomplaints.json')"
   ]
  },
  {
   "cell_type": "markdown",
   "metadata": {},
   "source": [
    "4. Now compare the original file and the round-trip files. These should be reasonably identical.\n",
    "> What do I mean by reasonably identical? You might run into some instances where the various packages encapsulate text in quotes. Minor issues like this are okay, but you need to explain why they are specifically occurring, if you decide not to clean them up.\n",
    "<br><br>\n",
    "If you wish to resolve this issue, You could:<br>* Look at the various parameters to resolve this issue <br> * Run the round trip twice. Then you would be make your output file from the first run your input file for the second run. Not ideal, but it works."
   ]
  },
  {
   "cell_type": "code",
   "execution_count": 8,
   "metadata": {},
   "outputs": [],
   "source": [
    "# reading the two files in as uni-code and comparing them\n",
    "file_1 = (pd.read_json('data/complaints.json', encoding=\"utf8\" ))"
   ]
  },
  {
   "cell_type": "code",
   "execution_count": 9,
   "metadata": {},
   "outputs": [],
   "source": [
    "file_2 = (pd.read_json('data/finalcomplaints.json', encoding=\"utf8\" ))"
   ]
  },
  {
   "cell_type": "code",
   "execution_count": 10,
   "metadata": {},
   "outputs": [
    {
     "data": {
      "text/html": [
       "<div>\n",
       "<style scoped>\n",
       "    .dataframe tbody tr th:only-of-type {\n",
       "        vertical-align: middle;\n",
       "    }\n",
       "\n",
       "    .dataframe tbody tr th {\n",
       "        vertical-align: top;\n",
       "    }\n",
       "\n",
       "    .dataframe thead th {\n",
       "        text-align: right;\n",
       "    }\n",
       "</style>\n",
       "<table border=\"1\" class=\"dataframe\">\n",
       "  <thead>\n",
       "    <tr style=\"text-align: right;\">\n",
       "      <th></th>\n",
       "      <th>date_received</th>\n",
       "      <th>product</th>\n",
       "      <th>sub_product</th>\n",
       "      <th>issue</th>\n",
       "      <th>sub_issue</th>\n",
       "      <th>complaint_what_happened</th>\n",
       "      <th>company_public_response</th>\n",
       "      <th>company</th>\n",
       "      <th>state</th>\n",
       "      <th>zip_code</th>\n",
       "      <th>tags</th>\n",
       "      <th>consumer_consent_provided</th>\n",
       "      <th>submitted_via</th>\n",
       "      <th>date_sent_to_company</th>\n",
       "      <th>company_response</th>\n",
       "      <th>timely</th>\n",
       "      <th>consumer_disputed</th>\n",
       "      <th>complaint_id</th>\n",
       "    </tr>\n",
       "  </thead>\n",
       "  <tbody>\n",
       "    <tr>\n",
       "      <th>0</th>\n",
       "      <td>2023-05-13</td>\n",
       "      <td>Credit reporting, credit repair services, or o...</td>\n",
       "      <td>Credit reporting</td>\n",
       "      <td>Incorrect information on your report</td>\n",
       "      <td>Information belongs to someone else</td>\n",
       "      <td>This is my Follow-up request that I have been ...</td>\n",
       "      <td>Company has responded to the consumer and the ...</td>\n",
       "      <td>TRANSUNION INTERMEDIATE HOLDINGS, INC.</td>\n",
       "      <td>TX</td>\n",
       "      <td>75050</td>\n",
       "      <td></td>\n",
       "      <td>Consent provided</td>\n",
       "      <td>Web</td>\n",
       "      <td>2023-05-13</td>\n",
       "      <td>Closed with non-monetary relief</td>\n",
       "      <td>Yes</td>\n",
       "      <td>N/A</td>\n",
       "      <td>6969093</td>\n",
       "    </tr>\n",
       "    <tr>\n",
       "      <th>1</th>\n",
       "      <td>2023-06-15</td>\n",
       "      <td>Credit reporting, credit repair services, or o...</td>\n",
       "      <td>Credit reporting</td>\n",
       "      <td>Problem with a credit reporting company's inve...</td>\n",
       "      <td>Their investigation did not fix an error on yo...</td>\n",
       "      <td></td>\n",
       "      <td></td>\n",
       "      <td>Experian Information Solutions Inc.</td>\n",
       "      <td>FL</td>\n",
       "      <td>33025</td>\n",
       "      <td></td>\n",
       "      <td></td>\n",
       "      <td>Web</td>\n",
       "      <td>2023-06-15</td>\n",
       "      <td>In progress</td>\n",
       "      <td>Yes</td>\n",
       "      <td>N/A</td>\n",
       "      <td>7124177</td>\n",
       "    </tr>\n",
       "    <tr>\n",
       "      <th>2</th>\n",
       "      <td>2023-03-02</td>\n",
       "      <td>Payday loan, title loan, or personal loan</td>\n",
       "      <td>Personal line of credit</td>\n",
       "      <td>Problem when making payments</td>\n",
       "      <td></td>\n",
       "      <td></td>\n",
       "      <td>Company has responded to the consumer and the ...</td>\n",
       "      <td>SECURITY SERVICE FEDERAL CREDIT UNION</td>\n",
       "      <td>TX</td>\n",
       "      <td>78214</td>\n",
       "      <td></td>\n",
       "      <td>N/A</td>\n",
       "      <td>Phone</td>\n",
       "      <td>2023-03-02</td>\n",
       "      <td>Closed with monetary relief</td>\n",
       "      <td>Yes</td>\n",
       "      <td>N/A</td>\n",
       "      <td>6638236</td>\n",
       "    </tr>\n",
       "    <tr>\n",
       "      <th>3</th>\n",
       "      <td>2023-03-01</td>\n",
       "      <td>Credit reporting, credit repair services, or o...</td>\n",
       "      <td>Credit reporting</td>\n",
       "      <td>Incorrect information on your report</td>\n",
       "      <td>Information belongs to someone else</td>\n",
       "      <td></td>\n",
       "      <td>Company has responded to the consumer and the ...</td>\n",
       "      <td>Experian Information Solutions Inc.</td>\n",
       "      <td>PA</td>\n",
       "      <td>19104</td>\n",
       "      <td></td>\n",
       "      <td>Consent not provided</td>\n",
       "      <td>Web</td>\n",
       "      <td>2023-03-02</td>\n",
       "      <td>Closed with explanation</td>\n",
       "      <td>Yes</td>\n",
       "      <td>N/A</td>\n",
       "      <td>6627419</td>\n",
       "    </tr>\n",
       "    <tr>\n",
       "      <th>4</th>\n",
       "      <td>2023-05-12</td>\n",
       "      <td>Credit reporting, credit repair services, or o...</td>\n",
       "      <td>Credit reporting</td>\n",
       "      <td>Incorrect information on your report</td>\n",
       "      <td>Information belongs to someone else</td>\n",
       "      <td></td>\n",
       "      <td>Company has responded to the consumer and the ...</td>\n",
       "      <td>TRANSUNION INTERMEDIATE HOLDINGS, INC.</td>\n",
       "      <td>MI</td>\n",
       "      <td>49519</td>\n",
       "      <td></td>\n",
       "      <td>Consent not provided</td>\n",
       "      <td>Web</td>\n",
       "      <td>2023-05-12</td>\n",
       "      <td>Closed with non-monetary relief</td>\n",
       "      <td>Yes</td>\n",
       "      <td>N/A</td>\n",
       "      <td>6970146</td>\n",
       "    </tr>\n",
       "  </tbody>\n",
       "</table>\n",
       "</div>"
      ],
      "text/plain": [
       "  date_received                                            product   \n",
       "0    2023-05-13  Credit reporting, credit repair services, or o...  \\\n",
       "1    2023-06-15  Credit reporting, credit repair services, or o...   \n",
       "2    2023-03-02          Payday loan, title loan, or personal loan   \n",
       "3    2023-03-01  Credit reporting, credit repair services, or o...   \n",
       "4    2023-05-12  Credit reporting, credit repair services, or o...   \n",
       "\n",
       "               sub_product                                              issue   \n",
       "0         Credit reporting               Incorrect information on your report  \\\n",
       "1         Credit reporting  Problem with a credit reporting company's inve...   \n",
       "2  Personal line of credit                       Problem when making payments   \n",
       "3         Credit reporting               Incorrect information on your report   \n",
       "4         Credit reporting               Incorrect information on your report   \n",
       "\n",
       "                                           sub_issue   \n",
       "0                Information belongs to someone else  \\\n",
       "1  Their investigation did not fix an error on yo...   \n",
       "2                                                      \n",
       "3                Information belongs to someone else   \n",
       "4                Information belongs to someone else   \n",
       "\n",
       "                             complaint_what_happened   \n",
       "0  This is my Follow-up request that I have been ...  \\\n",
       "1                                                      \n",
       "2                                                      \n",
       "3                                                      \n",
       "4                                                      \n",
       "\n",
       "                             company_public_response   \n",
       "0  Company has responded to the consumer and the ...  \\\n",
       "1                                                      \n",
       "2  Company has responded to the consumer and the ...   \n",
       "3  Company has responded to the consumer and the ...   \n",
       "4  Company has responded to the consumer and the ...   \n",
       "\n",
       "                                  company state zip_code tags   \n",
       "0  TRANSUNION INTERMEDIATE HOLDINGS, INC.    TX    75050       \\\n",
       "1     Experian Information Solutions Inc.    FL    33025        \n",
       "2   SECURITY SERVICE FEDERAL CREDIT UNION    TX    78214        \n",
       "3     Experian Information Solutions Inc.    PA    19104        \n",
       "4  TRANSUNION INTERMEDIATE HOLDINGS, INC.    MI    49519        \n",
       "\n",
       "  consumer_consent_provided submitted_via date_sent_to_company   \n",
       "0          Consent provided           Web           2023-05-13  \\\n",
       "1                                     Web           2023-06-15   \n",
       "2                       N/A         Phone           2023-03-02   \n",
       "3      Consent not provided           Web           2023-03-02   \n",
       "4      Consent not provided           Web           2023-05-12   \n",
       "\n",
       "                  company_response timely consumer_disputed  complaint_id  \n",
       "0  Closed with non-monetary relief    Yes               N/A       6969093  \n",
       "1                      In progress    Yes               N/A       7124177  \n",
       "2      Closed with monetary relief    Yes               N/A       6638236  \n",
       "3          Closed with explanation    Yes               N/A       6627419  \n",
       "4  Closed with non-monetary relief    Yes               N/A       6970146  "
      ]
     },
     "execution_count": 10,
     "metadata": {},
     "output_type": "execute_result"
    }
   ],
   "source": [
    "# Looking at the original file\n",
    "file_1.head(5)"
   ]
  },
  {
   "cell_type": "code",
   "execution_count": 11,
   "metadata": {},
   "outputs": [
    {
     "data": {
      "text/html": [
       "<div>\n",
       "<style scoped>\n",
       "    .dataframe tbody tr th:only-of-type {\n",
       "        vertical-align: middle;\n",
       "    }\n",
       "\n",
       "    .dataframe tbody tr th {\n",
       "        vertical-align: top;\n",
       "    }\n",
       "\n",
       "    .dataframe thead th {\n",
       "        text-align: right;\n",
       "    }\n",
       "</style>\n",
       "<table border=\"1\" class=\"dataframe\">\n",
       "  <thead>\n",
       "    <tr style=\"text-align: right;\">\n",
       "      <th></th>\n",
       "      <th></th>\n",
       "      <th>date_received</th>\n",
       "      <th>product</th>\n",
       "      <th>sub_product</th>\n",
       "      <th>issue</th>\n",
       "      <th>sub_issue</th>\n",
       "      <th>complaint_what_happened</th>\n",
       "      <th>company_public_response</th>\n",
       "      <th>company</th>\n",
       "      <th>state</th>\n",
       "      <th>zip_code</th>\n",
       "      <th>tags</th>\n",
       "      <th>consumer_consent_provided</th>\n",
       "      <th>submitted_via</th>\n",
       "      <th>date_sent_to_company</th>\n",
       "      <th>company_response</th>\n",
       "      <th>timely</th>\n",
       "      <th>consumer_disputed</th>\n",
       "      <th>complaint_id</th>\n",
       "    </tr>\n",
       "  </thead>\n",
       "  <tbody>\n",
       "    <tr>\n",
       "      <th>0</th>\n",
       "      <td>0</td>\n",
       "      <td>2023-05-13</td>\n",
       "      <td>Credit reporting, credit repair services, or o...</td>\n",
       "      <td>Credit reporting</td>\n",
       "      <td>Incorrect information on your report</td>\n",
       "      <td>Information belongs to someone else</td>\n",
       "      <td>This is my Follow-up request that I have been ...</td>\n",
       "      <td>Company has responded to the consumer and the ...</td>\n",
       "      <td>TRANSUNION INTERMEDIATE HOLDINGS, INC.</td>\n",
       "      <td>TX</td>\n",
       "      <td>75050</td>\n",
       "      <td></td>\n",
       "      <td>Consent provided</td>\n",
       "      <td>Web</td>\n",
       "      <td>2023-05-13</td>\n",
       "      <td>Closed with non-monetary relief</td>\n",
       "      <td>Yes</td>\n",
       "      <td>N/A</td>\n",
       "      <td>6969093</td>\n",
       "    </tr>\n",
       "    <tr>\n",
       "      <th>1</th>\n",
       "      <td>1</td>\n",
       "      <td>2023-06-15</td>\n",
       "      <td>Credit reporting, credit repair services, or o...</td>\n",
       "      <td>Credit reporting</td>\n",
       "      <td>Problem with a credit reporting company's inve...</td>\n",
       "      <td>Their investigation did not fix an error on yo...</td>\n",
       "      <td></td>\n",
       "      <td></td>\n",
       "      <td>Experian Information Solutions Inc.</td>\n",
       "      <td>FL</td>\n",
       "      <td>33025</td>\n",
       "      <td></td>\n",
       "      <td></td>\n",
       "      <td>Web</td>\n",
       "      <td>2023-06-15</td>\n",
       "      <td>In progress</td>\n",
       "      <td>Yes</td>\n",
       "      <td>N/A</td>\n",
       "      <td>7124177</td>\n",
       "    </tr>\n",
       "    <tr>\n",
       "      <th>2</th>\n",
       "      <td>2</td>\n",
       "      <td>2023-03-02</td>\n",
       "      <td>Payday loan, title loan, or personal loan</td>\n",
       "      <td>Personal line of credit</td>\n",
       "      <td>Problem when making payments</td>\n",
       "      <td></td>\n",
       "      <td></td>\n",
       "      <td>Company has responded to the consumer and the ...</td>\n",
       "      <td>SECURITY SERVICE FEDERAL CREDIT UNION</td>\n",
       "      <td>TX</td>\n",
       "      <td>78214</td>\n",
       "      <td></td>\n",
       "      <td>N/A</td>\n",
       "      <td>Phone</td>\n",
       "      <td>2023-03-02</td>\n",
       "      <td>Closed with monetary relief</td>\n",
       "      <td>Yes</td>\n",
       "      <td>N/A</td>\n",
       "      <td>6638236</td>\n",
       "    </tr>\n",
       "    <tr>\n",
       "      <th>3</th>\n",
       "      <td>3</td>\n",
       "      <td>2023-03-01</td>\n",
       "      <td>Credit reporting, credit repair services, or o...</td>\n",
       "      <td>Credit reporting</td>\n",
       "      <td>Incorrect information on your report</td>\n",
       "      <td>Information belongs to someone else</td>\n",
       "      <td></td>\n",
       "      <td>Company has responded to the consumer and the ...</td>\n",
       "      <td>Experian Information Solutions Inc.</td>\n",
       "      <td>PA</td>\n",
       "      <td>19104</td>\n",
       "      <td></td>\n",
       "      <td>Consent not provided</td>\n",
       "      <td>Web</td>\n",
       "      <td>2023-03-02</td>\n",
       "      <td>Closed with explanation</td>\n",
       "      <td>Yes</td>\n",
       "      <td>N/A</td>\n",
       "      <td>6627419</td>\n",
       "    </tr>\n",
       "    <tr>\n",
       "      <th>4</th>\n",
       "      <td>4</td>\n",
       "      <td>2023-05-12</td>\n",
       "      <td>Credit reporting, credit repair services, or o...</td>\n",
       "      <td>Credit reporting</td>\n",
       "      <td>Incorrect information on your report</td>\n",
       "      <td>Information belongs to someone else</td>\n",
       "      <td></td>\n",
       "      <td>Company has responded to the consumer and the ...</td>\n",
       "      <td>TRANSUNION INTERMEDIATE HOLDINGS, INC.</td>\n",
       "      <td>MI</td>\n",
       "      <td>49519</td>\n",
       "      <td></td>\n",
       "      <td>Consent not provided</td>\n",
       "      <td>Web</td>\n",
       "      <td>2023-05-12</td>\n",
       "      <td>Closed with non-monetary relief</td>\n",
       "      <td>Yes</td>\n",
       "      <td>N/A</td>\n",
       "      <td>6970146</td>\n",
       "    </tr>\n",
       "  </tbody>\n",
       "</table>\n",
       "</div>"
      ],
      "text/plain": [
       "     date_received                                            product   \n",
       "0  0    2023-05-13  Credit reporting, credit repair services, or o...  \\\n",
       "1  1    2023-06-15  Credit reporting, credit repair services, or o...   \n",
       "2  2    2023-03-02          Payday loan, title loan, or personal loan   \n",
       "3  3    2023-03-01  Credit reporting, credit repair services, or o...   \n",
       "4  4    2023-05-12  Credit reporting, credit repair services, or o...   \n",
       "\n",
       "               sub_product                                              issue   \n",
       "0         Credit reporting               Incorrect information on your report  \\\n",
       "1         Credit reporting  Problem with a credit reporting company's inve...   \n",
       "2  Personal line of credit                       Problem when making payments   \n",
       "3         Credit reporting               Incorrect information on your report   \n",
       "4         Credit reporting               Incorrect information on your report   \n",
       "\n",
       "                                           sub_issue   \n",
       "0                Information belongs to someone else  \\\n",
       "1  Their investigation did not fix an error on yo...   \n",
       "2                                                      \n",
       "3                Information belongs to someone else   \n",
       "4                Information belongs to someone else   \n",
       "\n",
       "                             complaint_what_happened   \n",
       "0  This is my Follow-up request that I have been ...  \\\n",
       "1                                                      \n",
       "2                                                      \n",
       "3                                                      \n",
       "4                                                      \n",
       "\n",
       "                             company_public_response   \n",
       "0  Company has responded to the consumer and the ...  \\\n",
       "1                                                      \n",
       "2  Company has responded to the consumer and the ...   \n",
       "3  Company has responded to the consumer and the ...   \n",
       "4  Company has responded to the consumer and the ...   \n",
       "\n",
       "                                  company state zip_code tags   \n",
       "0  TRANSUNION INTERMEDIATE HOLDINGS, INC.    TX    75050       \\\n",
       "1     Experian Information Solutions Inc.    FL    33025        \n",
       "2   SECURITY SERVICE FEDERAL CREDIT UNION    TX    78214        \n",
       "3     Experian Information Solutions Inc.    PA    19104        \n",
       "4  TRANSUNION INTERMEDIATE HOLDINGS, INC.    MI    49519        \n",
       "\n",
       "  consumer_consent_provided submitted_via date_sent_to_company   \n",
       "0          Consent provided           Web           2023-05-13  \\\n",
       "1                                     Web           2023-06-15   \n",
       "2                       N/A         Phone           2023-03-02   \n",
       "3      Consent not provided           Web           2023-03-02   \n",
       "4      Consent not provided           Web           2023-05-12   \n",
       "\n",
       "                  company_response timely consumer_disputed  complaint_id  \n",
       "0  Closed with non-monetary relief    Yes               N/A       6969093  \n",
       "1                      In progress    Yes               N/A       7124177  \n",
       "2      Closed with monetary relief    Yes               N/A       6638236  \n",
       "3          Closed with explanation    Yes               N/A       6627419  \n",
       "4  Closed with non-monetary relief    Yes               N/A       6970146  "
      ]
     },
     "execution_count": 11,
     "metadata": {},
     "output_type": "execute_result"
    }
   ],
   "source": [
    "# Looking at the new file\n",
    "file_2.head(5)"
   ]
  },
  {
   "cell_type": "markdown",
   "metadata": {},
   "source": [
    "**Hint:** Mac and Linux have a command line tool called 'diff' that will show differences between two files. Windows users can use the 'fc' command on the command line. See this answer on StackOverflow for alternatives: https://stackoverflow.com/questions/6877238/what-is-the-windows-equivalent-of-the-diff-command\n",
    "\n"
   ]
  },
  {
   "cell_type": "code",
   "execution_count": 12,
   "metadata": {},
   "outputs": [
    {
     "name": "stdout",
     "output_type": "stream",
     "text": [
      "<class 'pandas.core.frame.DataFrame'>\n",
      "RangeIndex: 3774954 entries, 0 to 3774953\n",
      "Data columns (total 18 columns):\n",
      " #   Column                     Dtype \n",
      "---  ------                     ----- \n",
      " 0   date_received              object\n",
      " 1   product                    object\n",
      " 2   sub_product                object\n",
      " 3   issue                      object\n",
      " 4   sub_issue                  object\n",
      " 5   complaint_what_happened    object\n",
      " 6   company_public_response    object\n",
      " 7   company                    object\n",
      " 8   state                      object\n",
      " 9   zip_code                   object\n",
      " 10  tags                       object\n",
      " 11  consumer_consent_provided  object\n",
      " 12  submitted_via              object\n",
      " 13  date_sent_to_company       object\n",
      " 14  company_response           object\n",
      " 15  timely                     object\n",
      " 16  consumer_disputed          object\n",
      " 17  complaint_id               int64 \n",
      "dtypes: int64(1), object(17)\n",
      "memory usage: 518.4+ MB\n"
     ]
    }
   ],
   "source": [
    "file_1.info()"
   ]
  },
  {
   "cell_type": "code",
   "execution_count": 13,
   "metadata": {},
   "outputs": [
    {
     "name": "stdout",
     "output_type": "stream",
     "text": [
      "<class 'pandas.core.frame.DataFrame'>\n",
      "RangeIndex: 3774954 entries, 0 to 3774953\n",
      "Data columns (total 19 columns):\n",
      " #   Column                     Dtype \n",
      "---  ------                     ----- \n",
      " 0                              int64 \n",
      " 1   date_received              object\n",
      " 2   product                    object\n",
      " 3   sub_product                object\n",
      " 4   issue                      object\n",
      " 5   sub_issue                  object\n",
      " 6   complaint_what_happened    object\n",
      " 7   company_public_response    object\n",
      " 8   company                    object\n",
      " 9   state                      object\n",
      " 10  zip_code                   object\n",
      " 11  tags                       object\n",
      " 12  consumer_consent_provided  object\n",
      " 13  submitted_via              object\n",
      " 14  date_sent_to_company       object\n",
      " 15  company_response           object\n",
      " 16  timely                     object\n",
      " 17  consumer_disputed          object\n",
      " 18  complaint_id               int64 \n",
      "dtypes: int64(2), object(17)\n",
      "memory usage: 547.2+ MB\n"
     ]
    }
   ],
   "source": [
    "file_2.info()"
   ]
  },
  {
   "cell_type": "markdown",
   "metadata": {},
   "source": [
    "There were some changes made to the file during the round trip conversion, namely a new column was added that appears to be a duplication of the index column. It was likely done when the CSV file was created. One way around this could be to tell the CSV reader to not create an index column when it is reading in the file.\n",
    "\n",
    "It also helped that the file was read in as uni-code. I noticed that there were issues when I did not do this the first time caused by certain characters not being read correctly.\n",
    "\n",
    "The file also changed in size (due to the column addition). With that in mind it appears that the data itself was preserved correctly."
   ]
  },
  {
   "cell_type": "markdown",
   "metadata": {},
   "source": [
    "# Conclusion"
   ]
  },
  {
   "cell_type": "markdown",
   "metadata": {},
   "source": [
    "Going back to the initial question I found a library on GeeksforGeeks that allows for easy timing of a code block, this is what it would look like to read in the rather large csv file that was created from the json file. It takes about 90 seconds. The code for this is used below. That is compared with 269 seconds to read it in using the JSON code that was provided. So in retrospect it was faster to read it in using the original code.\n",
    "\n",
    "https://www.geeksforgeeks.org/how-to-check-the-execution-time-of-python-script/"
   ]
  },
  {
   "cell_type": "code",
   "execution_count": 14,
   "metadata": {},
   "outputs": [
    {
     "name": "stdout",
     "output_type": "stream",
     "text": [
      "82.15476274490356\n"
     ]
    }
   ],
   "source": [
    "# This is the code that states it will take a long time with a large file\n",
    "# Read CSV file. This wouldn't work well for very large files\n",
    "import time\n",
    "\n",
    "start = time.time()\n",
    "\n",
    "with open('data/newcomplaints.csv', encoding=\"utf8\") as f:\n",
    "    reader = csv.DictReader(f)\n",
    "    rows = list(reader)\n",
    "    \n",
    "end = time.time()\n",
    "\n",
    "print(end-start)  "
   ]
  },
  {
   "cell_type": "code",
   "execution_count": 15,
   "metadata": {},
   "outputs": [
    {
     "name": "stdout",
     "output_type": "stream",
     "text": [
      "279.3206205368042\n"
     ]
    }
   ],
   "source": [
    "# Same but with a JSON file to compare \n",
    "# Write JSON file to disk\n",
    "start = time.time()\n",
    "\n",
    "with open('data/complaints.json', 'w') as f:\n",
    "    json.dump(rows, f)\n",
    "    \n",
    "end = time.time()\n",
    "\n",
    "print(end-start)  "
   ]
  },
  {
   "cell_type": "markdown",
   "metadata": {},
   "source": [
    "After building the code to convert from JSON to CSV and CSV to JSON it was found that issues would arise with the data if the \"encoding='utf8'\" was not used. The characters were being changed and the program was unable to contiue running with the unidentifiable characters. Reading everything in as UTF8 encoding fixed this issue. The conversion is very very slow, and takes several minutes to run on my machine. It was also found that an additional column was being added when converting between formats. This column could easily be dropped once the final data frame was created."
   ]
  }
 ],
 "metadata": {
  "kernelspec": {
   "display_name": "Python 3 (ipykernel)",
   "language": "python",
   "name": "python3"
  },
  "language_info": {
   "codemirror_mode": {
    "name": "ipython",
    "version": 3
   },
   "file_extension": ".py",
   "mimetype": "text/x-python",
   "name": "python",
   "nbconvert_exporter": "python",
   "pygments_lexer": "ipython3",
   "version": "3.10.9"
  }
 },
 "nbformat": 4,
 "nbformat_minor": 4
}
